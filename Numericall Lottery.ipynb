{
  "nbformat": 4,
  "nbformat_minor": 0,
  "metadata": {
    "colab": {
      "provenance": [],
      "authorship_tag": "ABX9TyPMkfaUvEg6A1kNRev/pl/e",
      "include_colab_link": true
    },
    "kernelspec": {
      "name": "python3",
      "display_name": "Python 3"
    },
    "language_info": {
      "name": "python"
    }
  },
  "cells": [
    {
      "cell_type": "markdown",
      "metadata": {
        "id": "view-in-github",
        "colab_type": "text"
      },
      "source": [
        "<a href=\"https://colab.research.google.com/github/AhmetA75/Numerical-Lotteriy-without-duplicates/blob/main/Numericall%20Lottery.ipynb\" target=\"_parent\"><img src=\"https://colab.research.google.com/assets/colab-badge.svg\" alt=\"Open In Colab\"/></a>"
      ]
    },
    {
      "cell_type": "code",
      "execution_count": 2,
      "metadata": {
        "colab": {
          "base_uri": "https://localhost:8080/"
        },
        "id": "8-fw843P5vEt",
        "outputId": "89a2b79e-1d22-4927-e475-164300a83176"
      },
      "outputs": [
        {
          "output_type": "stream",
          "name": "stdout",
          "text": [
            "[[39, 46, 48, 29, 47, 42], [0, 31, 27, 40, 26, 42], [29, 23, 41, 8, 46, 12], [28, 43, 3, 15, 12, 47], [27, 3, 6, 2, 46, 35], [25, 31, 9, 43, 24, 2], [23, 43, 47, 17, 25, 28], [40, 27, 42, 41, 17, 4]]\n"
          ]
        }
      ],
      "source": [
        "import numpy as np\n",
        "\n",
        "\n",
        "\n",
        "def control_duplicate(input_list, number):\n",
        "    \"\"\"\n",
        "    bu fonksiyon icerisine aldigi listede, belirli bir sayi var mi diye kontrol eder\n",
        "    : input_list: kontrol edilecek liste\n",
        "    : number: listede hali hazirda var mi yok mu diye bakilacak sayi\n",
        "    :return: sayi listede varsa False, yoksa True doner.\n",
        "    \"\"\"\n",
        "    if len(input_list) == 0:\n",
        "        return True\n",
        "\n",
        "    for item in input_list:\n",
        "        if item == number:\n",
        "            return False\n",
        "\n",
        "    return True\n",
        "\n",
        "\n",
        "def sayisal_kupon_olustur(liste_sayisi=8, eleman_sayisi=6):\n",
        "    \"\"\"\n",
        "    liste_sayisi parametresi kadar listesi olan, her bir listenin eleman sayisi eleman_sayisi parametresi kadar olan bir matris dondurur\n",
        "    : liste_sayisi:\n",
        "    : eleman_sayisi:\n",
        "    \n",
        "    \"\"\"\n",
        "    all_list = []\n",
        "    for index in range(liste_sayisi):\n",
        "        my_list = []\n",
        "        for second_index in range(eleman_sayisi):\n",
        "            control = False\n",
        "            random_number = None\n",
        "            while control != True:\n",
        "                random_number = np.random.randint(49)\n",
        "                control = control_duplicate(input_list=my_list, number=random_number)\n",
        "            my_list.append(random_number)\n",
        "        all_list.append(my_list)\n",
        "\n",
        "    return all_list\n",
        "\n",
        "\n",
        "print(sayisal_kupon_olustur())\n"
      ]
    }
  ]
}